{
  "nbformat": 4,
  "nbformat_minor": 0,
  "metadata": {
    "colab": {
      "name": "Yang Final Project - Cancer Prediction",
      "provenance": [],
      "collapsed_sections": []
    },
    "kernelspec": {
      "name": "python3",
      "display_name": "Python 3"
    }
  },
  "cells": [
    {
      "cell_type": "markdown",
      "metadata": {
        "id": "F-T-FqPxIHvQ"
      },
      "source": [
        "# Benign and malignant tumor classification\n",
        "### Introduction\n",
        "The Wisconsin Breast Cancer dataset was used for this classification study. The creators of the dataset are Dr. William H. Wolberg, W. Nick Street, and Olvi L. Mangasarian of the University of Wisconsin. Complete information of the dataset can be found here: https://archive.ics.uci.edu/ml/datasets/Breast+Cancer+Wisconsin+%28Diagnostic%29. The dataset was donated for public use in 1995. \n",
        "\n",
        "To obtain the data, the authors analyzed digitalized images of a fine needle aspirate (FNA) from breast masses. With these images and their corresponding diagnoses (benign vs malignant), the authors then extracted the following data for individual cancerous cells that correspond to the columns of the dataset: \n",
        "\n",
        "1) ID number\n",
        "\n",
        "2) Diagnosis (M = malignant, B = benign)\n",
        "\n",
        "3-32) Ten real-valued features are computed for each cell nucleus:\n",
        "\n",
        "\ta) radius (mean of distances from center to points on the perimeter)\n",
        "\tb) texture (standard deviation of gray-scale values)\n",
        "\tc) perimeter\n",
        "\td) area\n",
        "\te) smoothness (local variation in radius lengths)\n",
        "\tf) compactness (perimeter^2 / area - 1.0)\n",
        "\tg) concavity (severity of concave portions of the contour)\n",
        "\th) concave points (number of concave portions of the contour)\n",
        "\ti) symmetry \n",
        "\tj) fractal dimension (\"coastline approximation\" - 1)\n",
        "\n",
        "The mean, standard error, and \"worst\" or largest (mean of the three\n",
        "largest values) of these features were computed for each image,\n",
        "resulting in 30 features.  For instance, column 3 is Mean Radius, column\n",
        "13 is Radius SE, column 23 is Worst Radius.\n",
        "\n",
        "Given all the features above, I built a random forest model for malignant vs benign tumor prediction, using all of the features available. Briefly, a random forest model is an ensemble variation of the decision tree classifier, where many trees are built and contribute to the final decision. Each of these trees contain random features from a random subset of samples, with the idea that many uncorrelated (random) models will outperform any one individual decision tree. Similar to a standard decision tree classifier, many hyperparameters are available for tuning with a random forest classifier. I optimized some of them here."
      ]
    },
    {
      "cell_type": "code",
      "metadata": {
        "id": "Ayi0j6nW9j8l"
      },
      "source": [
        "from sklearn.model_selection import train_test_split\n",
        "from sklearn.preprocessing import LabelEncoder\n",
        "import pandas as pd\n",
        "import numpy as np"
      ],
      "execution_count": null,
      "outputs": []
    },
    {
      "cell_type": "markdown",
      "metadata": {
        "id": "07e9uN8JgmZ6"
      },
      "source": [
        "### Data Cleaning\n",
        "To load the data, I first downloaded the wdbc.data dataset available here: https://archive.ics.uci.edu/ml/machine-learning-databases/breast-cancer-wisconsin/. Using a text editor, I labeled each column with their repective cellular image metric, such as radius, texture, etc. With that, I used Google Drive to import my data into this notebook, with the dataframe saved as cancer_data. I then used sklearn's label encoder to covert malignant and benign labels into 1 and 0 respectively."
      ]
    },
    {
      "cell_type": "code",
      "metadata": {
        "id": "HC3PhWxi77_G"
      },
      "source": [
        "cancer_data = pd.read_csv(\n",
        " \"/wdbc.data\", index_col =[0], \n",
        ")\n",
        "\n",
        "encoder = LabelEncoder()\n",
        "encoder.fit(cancer_data.diagnosis)\n",
        "cancer_data[\"encoding\"] = encoder.transform(cancer_data.diagnosis) # Malignant(M) is 1, Benign(B) is 0"
      ],
      "execution_count": null,
      "outputs": []
    },
    {
      "cell_type": "code",
      "metadata": {
        "id": "vIO_v5NG9oiK",
        "colab": {
          "base_uri": "https://localhost:8080/",
          "height": 521
        },
        "outputId": "ad68cbae-9993-4056-8b51-2c6ad3b4117a"
      },
      "source": [
        "cancer_data"
      ],
      "execution_count": null,
      "outputs": [
        {
          "output_type": "execute_result",
          "data": {
            "text/html": [
              "<div>\n",
              "<style scoped>\n",
              "    .dataframe tbody tr th:only-of-type {\n",
              "        vertical-align: middle;\n",
              "    }\n",
              "\n",
              "    .dataframe tbody tr th {\n",
              "        vertical-align: top;\n",
              "    }\n",
              "\n",
              "    .dataframe thead th {\n",
              "        text-align: right;\n",
              "    }\n",
              "</style>\n",
              "<table border=\"1\" class=\"dataframe\">\n",
              "  <thead>\n",
              "    <tr style=\"text-align: right;\">\n",
              "      <th></th>\n",
              "      <th>diagnosis</th>\n",
              "      <th>radius</th>\n",
              "      <th>texture</th>\n",
              "      <th>perimeter</th>\n",
              "      <th>area</th>\n",
              "      <th>smoothness</th>\n",
              "      <th>compactness</th>\n",
              "      <th>concavity</th>\n",
              "      <th>concave points</th>\n",
              "      <th>symmetry</th>\n",
              "      <th>fractal dimension</th>\n",
              "      <th>radius SE</th>\n",
              "      <th>texture SE</th>\n",
              "      <th>perimeter SE</th>\n",
              "      <th>area SE</th>\n",
              "      <th>smoothness SE</th>\n",
              "      <th>compactness SE</th>\n",
              "      <th>concavity SE</th>\n",
              "      <th>concave points SE</th>\n",
              "      <th>symmetry SE</th>\n",
              "      <th>fractal dimension SE</th>\n",
              "      <th>worst radius</th>\n",
              "      <th>worst texture</th>\n",
              "      <th>worst perimeter</th>\n",
              "      <th>worst area</th>\n",
              "      <th>worst smoothness</th>\n",
              "      <th>worst compactness</th>\n",
              "      <th>worst concavity</th>\n",
              "      <th>worst concave points</th>\n",
              "      <th>worst symmetry</th>\n",
              "      <th>worst fractal dimension</th>\n",
              "      <th>encoding</th>\n",
              "    </tr>\n",
              "    <tr>\n",
              "      <th>ID number</th>\n",
              "      <th></th>\n",
              "      <th></th>\n",
              "      <th></th>\n",
              "      <th></th>\n",
              "      <th></th>\n",
              "      <th></th>\n",
              "      <th></th>\n",
              "      <th></th>\n",
              "      <th></th>\n",
              "      <th></th>\n",
              "      <th></th>\n",
              "      <th></th>\n",
              "      <th></th>\n",
              "      <th></th>\n",
              "      <th></th>\n",
              "      <th></th>\n",
              "      <th></th>\n",
              "      <th></th>\n",
              "      <th></th>\n",
              "      <th></th>\n",
              "      <th></th>\n",
              "      <th></th>\n",
              "      <th></th>\n",
              "      <th></th>\n",
              "      <th></th>\n",
              "      <th></th>\n",
              "      <th></th>\n",
              "      <th></th>\n",
              "      <th></th>\n",
              "      <th></th>\n",
              "      <th></th>\n",
              "      <th></th>\n",
              "    </tr>\n",
              "  </thead>\n",
              "  <tbody>\n",
              "    <tr>\n",
              "      <th>842302</th>\n",
              "      <td>M</td>\n",
              "      <td>17.99</td>\n",
              "      <td>10.38</td>\n",
              "      <td>122.80</td>\n",
              "      <td>1001.0</td>\n",
              "      <td>0.11840</td>\n",
              "      <td>0.27760</td>\n",
              "      <td>0.30010</td>\n",
              "      <td>0.14710</td>\n",
              "      <td>0.2419</td>\n",
              "      <td>0.07871</td>\n",
              "      <td>1.0950</td>\n",
              "      <td>0.9053</td>\n",
              "      <td>8.589</td>\n",
              "      <td>153.40</td>\n",
              "      <td>0.006399</td>\n",
              "      <td>0.04904</td>\n",
              "      <td>0.05373</td>\n",
              "      <td>0.01587</td>\n",
              "      <td>0.03003</td>\n",
              "      <td>0.006193</td>\n",
              "      <td>25.380</td>\n",
              "      <td>17.33</td>\n",
              "      <td>184.60</td>\n",
              "      <td>2019.0</td>\n",
              "      <td>0.16220</td>\n",
              "      <td>0.66560</td>\n",
              "      <td>0.7119</td>\n",
              "      <td>0.2654</td>\n",
              "      <td>0.4601</td>\n",
              "      <td>0.11890</td>\n",
              "      <td>1</td>\n",
              "    </tr>\n",
              "    <tr>\n",
              "      <th>842517</th>\n",
              "      <td>M</td>\n",
              "      <td>20.57</td>\n",
              "      <td>17.77</td>\n",
              "      <td>132.90</td>\n",
              "      <td>1326.0</td>\n",
              "      <td>0.08474</td>\n",
              "      <td>0.07864</td>\n",
              "      <td>0.08690</td>\n",
              "      <td>0.07017</td>\n",
              "      <td>0.1812</td>\n",
              "      <td>0.05667</td>\n",
              "      <td>0.5435</td>\n",
              "      <td>0.7339</td>\n",
              "      <td>3.398</td>\n",
              "      <td>74.08</td>\n",
              "      <td>0.005225</td>\n",
              "      <td>0.01308</td>\n",
              "      <td>0.01860</td>\n",
              "      <td>0.01340</td>\n",
              "      <td>0.01389</td>\n",
              "      <td>0.003532</td>\n",
              "      <td>24.990</td>\n",
              "      <td>23.41</td>\n",
              "      <td>158.80</td>\n",
              "      <td>1956.0</td>\n",
              "      <td>0.12380</td>\n",
              "      <td>0.18660</td>\n",
              "      <td>0.2416</td>\n",
              "      <td>0.1860</td>\n",
              "      <td>0.2750</td>\n",
              "      <td>0.08902</td>\n",
              "      <td>1</td>\n",
              "    </tr>\n",
              "    <tr>\n",
              "      <th>84300903</th>\n",
              "      <td>M</td>\n",
              "      <td>19.69</td>\n",
              "      <td>21.25</td>\n",
              "      <td>130.00</td>\n",
              "      <td>1203.0</td>\n",
              "      <td>0.10960</td>\n",
              "      <td>0.15990</td>\n",
              "      <td>0.19740</td>\n",
              "      <td>0.12790</td>\n",
              "      <td>0.2069</td>\n",
              "      <td>0.05999</td>\n",
              "      <td>0.7456</td>\n",
              "      <td>0.7869</td>\n",
              "      <td>4.585</td>\n",
              "      <td>94.03</td>\n",
              "      <td>0.006150</td>\n",
              "      <td>0.04006</td>\n",
              "      <td>0.03832</td>\n",
              "      <td>0.02058</td>\n",
              "      <td>0.02250</td>\n",
              "      <td>0.004571</td>\n",
              "      <td>23.570</td>\n",
              "      <td>25.53</td>\n",
              "      <td>152.50</td>\n",
              "      <td>1709.0</td>\n",
              "      <td>0.14440</td>\n",
              "      <td>0.42450</td>\n",
              "      <td>0.4504</td>\n",
              "      <td>0.2430</td>\n",
              "      <td>0.3613</td>\n",
              "      <td>0.08758</td>\n",
              "      <td>1</td>\n",
              "    </tr>\n",
              "    <tr>\n",
              "      <th>84348301</th>\n",
              "      <td>M</td>\n",
              "      <td>11.42</td>\n",
              "      <td>20.38</td>\n",
              "      <td>77.58</td>\n",
              "      <td>386.1</td>\n",
              "      <td>0.14250</td>\n",
              "      <td>0.28390</td>\n",
              "      <td>0.24140</td>\n",
              "      <td>0.10520</td>\n",
              "      <td>0.2597</td>\n",
              "      <td>0.09744</td>\n",
              "      <td>0.4956</td>\n",
              "      <td>1.1560</td>\n",
              "      <td>3.445</td>\n",
              "      <td>27.23</td>\n",
              "      <td>0.009110</td>\n",
              "      <td>0.07458</td>\n",
              "      <td>0.05661</td>\n",
              "      <td>0.01867</td>\n",
              "      <td>0.05963</td>\n",
              "      <td>0.009208</td>\n",
              "      <td>14.910</td>\n",
              "      <td>26.50</td>\n",
              "      <td>98.87</td>\n",
              "      <td>567.7</td>\n",
              "      <td>0.20980</td>\n",
              "      <td>0.86630</td>\n",
              "      <td>0.6869</td>\n",
              "      <td>0.2575</td>\n",
              "      <td>0.6638</td>\n",
              "      <td>0.17300</td>\n",
              "      <td>1</td>\n",
              "    </tr>\n",
              "    <tr>\n",
              "      <th>84358402</th>\n",
              "      <td>M</td>\n",
              "      <td>20.29</td>\n",
              "      <td>14.34</td>\n",
              "      <td>135.10</td>\n",
              "      <td>1297.0</td>\n",
              "      <td>0.10030</td>\n",
              "      <td>0.13280</td>\n",
              "      <td>0.19800</td>\n",
              "      <td>0.10430</td>\n",
              "      <td>0.1809</td>\n",
              "      <td>0.05883</td>\n",
              "      <td>0.7572</td>\n",
              "      <td>0.7813</td>\n",
              "      <td>5.438</td>\n",
              "      <td>94.44</td>\n",
              "      <td>0.011490</td>\n",
              "      <td>0.02461</td>\n",
              "      <td>0.05688</td>\n",
              "      <td>0.01885</td>\n",
              "      <td>0.01756</td>\n",
              "      <td>0.005115</td>\n",
              "      <td>22.540</td>\n",
              "      <td>16.67</td>\n",
              "      <td>152.20</td>\n",
              "      <td>1575.0</td>\n",
              "      <td>0.13740</td>\n",
              "      <td>0.20500</td>\n",
              "      <td>0.4000</td>\n",
              "      <td>0.1625</td>\n",
              "      <td>0.2364</td>\n",
              "      <td>0.07678</td>\n",
              "      <td>1</td>\n",
              "    </tr>\n",
              "    <tr>\n",
              "      <th>...</th>\n",
              "      <td>...</td>\n",
              "      <td>...</td>\n",
              "      <td>...</td>\n",
              "      <td>...</td>\n",
              "      <td>...</td>\n",
              "      <td>...</td>\n",
              "      <td>...</td>\n",
              "      <td>...</td>\n",
              "      <td>...</td>\n",
              "      <td>...</td>\n",
              "      <td>...</td>\n",
              "      <td>...</td>\n",
              "      <td>...</td>\n",
              "      <td>...</td>\n",
              "      <td>...</td>\n",
              "      <td>...</td>\n",
              "      <td>...</td>\n",
              "      <td>...</td>\n",
              "      <td>...</td>\n",
              "      <td>...</td>\n",
              "      <td>...</td>\n",
              "      <td>...</td>\n",
              "      <td>...</td>\n",
              "      <td>...</td>\n",
              "      <td>...</td>\n",
              "      <td>...</td>\n",
              "      <td>...</td>\n",
              "      <td>...</td>\n",
              "      <td>...</td>\n",
              "      <td>...</td>\n",
              "      <td>...</td>\n",
              "      <td>...</td>\n",
              "    </tr>\n",
              "    <tr>\n",
              "      <th>926424</th>\n",
              "      <td>M</td>\n",
              "      <td>21.56</td>\n",
              "      <td>22.39</td>\n",
              "      <td>142.00</td>\n",
              "      <td>1479.0</td>\n",
              "      <td>0.11100</td>\n",
              "      <td>0.11590</td>\n",
              "      <td>0.24390</td>\n",
              "      <td>0.13890</td>\n",
              "      <td>0.1726</td>\n",
              "      <td>0.05623</td>\n",
              "      <td>1.1760</td>\n",
              "      <td>1.2560</td>\n",
              "      <td>7.673</td>\n",
              "      <td>158.70</td>\n",
              "      <td>0.010300</td>\n",
              "      <td>0.02891</td>\n",
              "      <td>0.05198</td>\n",
              "      <td>0.02454</td>\n",
              "      <td>0.01114</td>\n",
              "      <td>0.004239</td>\n",
              "      <td>25.450</td>\n",
              "      <td>26.40</td>\n",
              "      <td>166.10</td>\n",
              "      <td>2027.0</td>\n",
              "      <td>0.14100</td>\n",
              "      <td>0.21130</td>\n",
              "      <td>0.4107</td>\n",
              "      <td>0.2216</td>\n",
              "      <td>0.2060</td>\n",
              "      <td>0.07115</td>\n",
              "      <td>1</td>\n",
              "    </tr>\n",
              "    <tr>\n",
              "      <th>926682</th>\n",
              "      <td>M</td>\n",
              "      <td>20.13</td>\n",
              "      <td>28.25</td>\n",
              "      <td>131.20</td>\n",
              "      <td>1261.0</td>\n",
              "      <td>0.09780</td>\n",
              "      <td>0.10340</td>\n",
              "      <td>0.14400</td>\n",
              "      <td>0.09791</td>\n",
              "      <td>0.1752</td>\n",
              "      <td>0.05533</td>\n",
              "      <td>0.7655</td>\n",
              "      <td>2.4630</td>\n",
              "      <td>5.203</td>\n",
              "      <td>99.04</td>\n",
              "      <td>0.005769</td>\n",
              "      <td>0.02423</td>\n",
              "      <td>0.03950</td>\n",
              "      <td>0.01678</td>\n",
              "      <td>0.01898</td>\n",
              "      <td>0.002498</td>\n",
              "      <td>23.690</td>\n",
              "      <td>38.25</td>\n",
              "      <td>155.00</td>\n",
              "      <td>1731.0</td>\n",
              "      <td>0.11660</td>\n",
              "      <td>0.19220</td>\n",
              "      <td>0.3215</td>\n",
              "      <td>0.1628</td>\n",
              "      <td>0.2572</td>\n",
              "      <td>0.06637</td>\n",
              "      <td>1</td>\n",
              "    </tr>\n",
              "    <tr>\n",
              "      <th>926954</th>\n",
              "      <td>M</td>\n",
              "      <td>16.60</td>\n",
              "      <td>28.08</td>\n",
              "      <td>108.30</td>\n",
              "      <td>858.1</td>\n",
              "      <td>0.08455</td>\n",
              "      <td>0.10230</td>\n",
              "      <td>0.09251</td>\n",
              "      <td>0.05302</td>\n",
              "      <td>0.1590</td>\n",
              "      <td>0.05648</td>\n",
              "      <td>0.4564</td>\n",
              "      <td>1.0750</td>\n",
              "      <td>3.425</td>\n",
              "      <td>48.55</td>\n",
              "      <td>0.005903</td>\n",
              "      <td>0.03731</td>\n",
              "      <td>0.04730</td>\n",
              "      <td>0.01557</td>\n",
              "      <td>0.01318</td>\n",
              "      <td>0.003892</td>\n",
              "      <td>18.980</td>\n",
              "      <td>34.12</td>\n",
              "      <td>126.70</td>\n",
              "      <td>1124.0</td>\n",
              "      <td>0.11390</td>\n",
              "      <td>0.30940</td>\n",
              "      <td>0.3403</td>\n",
              "      <td>0.1418</td>\n",
              "      <td>0.2218</td>\n",
              "      <td>0.07820</td>\n",
              "      <td>1</td>\n",
              "    </tr>\n",
              "    <tr>\n",
              "      <th>927241</th>\n",
              "      <td>M</td>\n",
              "      <td>20.60</td>\n",
              "      <td>29.33</td>\n",
              "      <td>140.10</td>\n",
              "      <td>1265.0</td>\n",
              "      <td>0.11780</td>\n",
              "      <td>0.27700</td>\n",
              "      <td>0.35140</td>\n",
              "      <td>0.15200</td>\n",
              "      <td>0.2397</td>\n",
              "      <td>0.07016</td>\n",
              "      <td>0.7260</td>\n",
              "      <td>1.5950</td>\n",
              "      <td>5.772</td>\n",
              "      <td>86.22</td>\n",
              "      <td>0.006522</td>\n",
              "      <td>0.06158</td>\n",
              "      <td>0.07117</td>\n",
              "      <td>0.01664</td>\n",
              "      <td>0.02324</td>\n",
              "      <td>0.006185</td>\n",
              "      <td>25.740</td>\n",
              "      <td>39.42</td>\n",
              "      <td>184.60</td>\n",
              "      <td>1821.0</td>\n",
              "      <td>0.16500</td>\n",
              "      <td>0.86810</td>\n",
              "      <td>0.9387</td>\n",
              "      <td>0.2650</td>\n",
              "      <td>0.4087</td>\n",
              "      <td>0.12400</td>\n",
              "      <td>1</td>\n",
              "    </tr>\n",
              "    <tr>\n",
              "      <th>92751</th>\n",
              "      <td>B</td>\n",
              "      <td>7.76</td>\n",
              "      <td>24.54</td>\n",
              "      <td>47.92</td>\n",
              "      <td>181.0</td>\n",
              "      <td>0.05263</td>\n",
              "      <td>0.04362</td>\n",
              "      <td>0.00000</td>\n",
              "      <td>0.00000</td>\n",
              "      <td>0.1587</td>\n",
              "      <td>0.05884</td>\n",
              "      <td>0.3857</td>\n",
              "      <td>1.4280</td>\n",
              "      <td>2.548</td>\n",
              "      <td>19.15</td>\n",
              "      <td>0.007189</td>\n",
              "      <td>0.00466</td>\n",
              "      <td>0.00000</td>\n",
              "      <td>0.00000</td>\n",
              "      <td>0.02676</td>\n",
              "      <td>0.002783</td>\n",
              "      <td>9.456</td>\n",
              "      <td>30.37</td>\n",
              "      <td>59.16</td>\n",
              "      <td>268.6</td>\n",
              "      <td>0.08996</td>\n",
              "      <td>0.06444</td>\n",
              "      <td>0.0000</td>\n",
              "      <td>0.0000</td>\n",
              "      <td>0.2871</td>\n",
              "      <td>0.07039</td>\n",
              "      <td>0</td>\n",
              "    </tr>\n",
              "  </tbody>\n",
              "</table>\n",
              "<p>569 rows × 32 columns</p>\n",
              "</div>"
            ],
            "text/plain": [
              "          diagnosis  radius  ...   worst fractal dimension  encoding\n",
              "ID number                    ...                                    \n",
              "842302            M   17.99  ...                   0.11890         1\n",
              "842517            M   20.57  ...                   0.08902         1\n",
              "84300903          M   19.69  ...                   0.08758         1\n",
              "84348301          M   11.42  ...                   0.17300         1\n",
              "84358402          M   20.29  ...                   0.07678         1\n",
              "...             ...     ...  ...                       ...       ...\n",
              "926424            M   21.56  ...                   0.07115         1\n",
              "926682            M   20.13  ...                   0.06637         1\n",
              "926954            M   16.60  ...                   0.07820         1\n",
              "927241            M   20.60  ...                   0.12400         1\n",
              "92751             B    7.76  ...                   0.07039         0\n",
              "\n",
              "[569 rows x 32 columns]"
            ]
          },
          "metadata": {
            "tags": []
          },
          "execution_count": 4
        }
      ]
    },
    {
      "cell_type": "code",
      "metadata": {
        "id": "VKD3M2Bg9_UM",
        "colab": {
          "base_uri": "https://localhost:8080/",
          "height": 170
        },
        "outputId": "c0f6c74e-4575-497c-fbf4-f09b4794f923"
      },
      "source": [
        "# extract feature names\n",
        "features = np.array(cancer_data.columns)[1:len(cancer_data.columns)-1]\n",
        "features"
      ],
      "execution_count": null,
      "outputs": [
        {
          "output_type": "execute_result",
          "data": {
            "text/plain": [
              "array(['radius', 'texture', 'perimeter', 'area', 'smoothness',\n",
              "       'compactness', 'concavity', 'concave points', ' symmetry',\n",
              "       ' fractal dimension', 'radius SE', 'texture SE', 'perimeter SE',\n",
              "       'area SE', 'smoothness SE', 'compactness SE', 'concavity SE',\n",
              "       'concave points SE', ' symmetry SE', ' fractal dimension SE',\n",
              "       'worst radius', ' worst texture', ' worst perimeter',\n",
              "       ' worst area', ' worst smoothness', ' worst compactness',\n",
              "       ' worst concavity', ' worst concave points', ' worst symmetry',\n",
              "       ' worst fractal dimension'], dtype=object)"
            ]
          },
          "metadata": {
            "tags": []
          },
          "execution_count": 5
        }
      ]
    },
    {
      "cell_type": "markdown",
      "metadata": {
        "id": "iq-e2XnQhzZg"
      },
      "source": [
        "### Model Training and Hyperparameter Optimization\n",
        "I utilized sklearn's RandomizedSearchCV to try several combinations of values for different parameters. As opposed to trying every single combination of hyperparameter values like GridSearchCV, RandomizedSearchCV uses a cross-validation based approach to try a subset of all possibilities, allowing for faster computaiton."
      ]
    },
    {
      "cell_type": "code",
      "metadata": {
        "id": "tKK6Hg2FKUsr"
      },
      "source": [
        "# train test split, train size 80% test size 20%, stratified\n",
        "train_data, test_data = train_test_split(cancer_data, train_size = 0.8, stratify = cancer_data['encoding'], random_state=1)"
      ],
      "execution_count": null,
      "outputs": []
    },
    {
      "cell_type": "code",
      "metadata": {
        "id": "inmgGzL9QDU3",
        "colab": {
          "base_uri": "https://localhost:8080/",
          "height": 34
        },
        "outputId": "da0bc8fd-de12-408b-8097-96a09345fa19"
      },
      "source": [
        "# Random Forest\n",
        "from sklearn.ensemble import RandomForestClassifier\n",
        "\n",
        "# Use randomized search cv to test a range of paramters arbitrarily inputted \n",
        "from sklearn.model_selection import RandomizedSearchCV\n",
        "n_estimators = [100, 200]\n",
        "max_features = ['auto', 'sqrt']\n",
        "max_depth = [5, 10, 30]\n",
        "min_samples_split = [2, 10, 15]\n",
        "min_samples_leaf = [2, 5, 10]\n",
        "grid_param = {'n_estimators': n_estimators,\n",
        "               'max_features': max_features,\n",
        "               'max_depth': max_depth,\n",
        "               'min_samples_split': min_samples_split,\n",
        "               'min_samples_leaf': min_samples_leaf}\n",
        "\n",
        "# Construct and fit model\n",
        "rf_model = RandomizedSearchCV(estimator = RandomForestClassifier(), param_distributions = grid_param, \n",
        "                              n_iter = 50, random_state=1, n_jobs = -1)\n",
        "rf_model.fit(train_data[features], train_data['encoding'])\n",
        "print(rf_model.best_params_)"
      ],
      "execution_count": null,
      "outputs": [
        {
          "output_type": "stream",
          "text": [
            "{'n_estimators': 100, 'min_samples_split': 2, 'min_samples_leaf': 2, 'max_features': 'auto', 'max_depth': 10}\n"
          ],
          "name": "stdout"
        }
      ]
    },
    {
      "cell_type": "code",
      "metadata": {
        "id": "ADmHiqQq9x9Z",
        "colab": {
          "base_uri": "https://localhost:8080/",
          "height": 153
        },
        "outputId": "426ae359-8ec2-44e0-fbd0-d330869d574b"
      },
      "source": [
        "# Use best params to make new model\n",
        "optimized_forest_model = RandomForestClassifier(n_estimators=200, max_depth=5, min_samples_leaf=2, min_samples_split=15, \n",
        "                                                max_features = \"sqrt\",random_state=1)\n",
        "optimized_forest_model.fit(train_data[features], train_data['encoding'])"
      ],
      "execution_count": null,
      "outputs": [
        {
          "output_type": "execute_result",
          "data": {
            "text/plain": [
              "RandomForestClassifier(bootstrap=True, ccp_alpha=0.0, class_weight=None,\n",
              "                       criterion='gini', max_depth=5, max_features='sqrt',\n",
              "                       max_leaf_nodes=None, max_samples=None,\n",
              "                       min_impurity_decrease=0.0, min_impurity_split=None,\n",
              "                       min_samples_leaf=2, min_samples_split=15,\n",
              "                       min_weight_fraction_leaf=0.0, n_estimators=200,\n",
              "                       n_jobs=None, oob_score=False, random_state=1, verbose=0,\n",
              "                       warm_start=False)"
            ]
          },
          "metadata": {
            "tags": []
          },
          "execution_count": 8
        }
      ]
    },
    {
      "cell_type": "markdown",
      "metadata": {
        "id": "f9viZx1Wie24"
      },
      "source": [
        "### Model Evaluation"
      ]
    },
    {
      "cell_type": "code",
      "metadata": {
        "id": "ZxpRKzrh-jBd",
        "colab": {
          "base_uri": "https://localhost:8080/",
          "height": 51
        },
        "outputId": "6c14bec2-c9dd-4d67-9cda-997f4eb41528"
      },
      "source": [
        "# Model evaluation\n",
        "# Train and test accuracy with optimized decision tree\n",
        "opt_train_predictions = optimized_forest_model.predict(train_data[features])\n",
        "opt_train_accuracy = sum(train_data['encoding'] == opt_train_predictions)/len(opt_train_predictions)\n",
        "print(\"Optimized train accuracy:\", opt_train_accuracy)\n",
        "opt_test_predictions = optimized_forest_model.predict(test_data[features])\n",
        "opt_test_accuracy = sum(test_data['encoding'] == opt_test_predictions)/len(opt_test_predictions)\n",
        "print(\"Optimized test accuracy:\", opt_test_accuracy)"
      ],
      "execution_count": null,
      "outputs": [
        {
          "output_type": "stream",
          "text": [
            "Optimized train accuracy: 0.9802197802197802\n",
            "Optimized test accuracy: 0.9473684210526315\n"
          ],
          "name": "stdout"
        }
      ]
    },
    {
      "cell_type": "code",
      "metadata": {
        "id": "8LYP0fVM_KZC",
        "colab": {
          "base_uri": "https://localhost:8080/",
          "height": 71
        },
        "outputId": "4769c0e0-cb00-40a6-9385-2216c3272938"
      },
      "source": [
        "# Confusion matrix\n",
        "import seaborn as sns\n",
        "\n",
        "def plot_confusion_matrix(MM, BM, MB, BB):\n",
        "    \"\"\"\n",
        "    Plots a confusion matrix using the values \n",
        "       MM - actual malignant predicted malignant\n",
        "       BM - actual benign predicted malignant\n",
        "       MB - actual malignant predicted benign\n",
        "       BB - actual benign predicted benign\n",
        "    \"\"\"\n",
        "    data = np.matrix([[MM, BM], [MB, BB]])\n",
        "\n",
        "    sns.heatmap(data,annot=True,xticklabels=['Actual malignant', 'Actual benign'] \n",
        "              ,yticklabels=['Pred. malignant', 'Pred. benign'])"
      ],
      "execution_count": null,
      "outputs": [
        {
          "output_type": "stream",
          "text": [
            "/usr/local/lib/python3.6/dist-packages/statsmodels/tools/_testing.py:19: FutureWarning: pandas.util.testing is deprecated. Use the functions in the public API at pandas.testing instead.\n",
            "  import pandas.util.testing as tm\n"
          ],
          "name": "stderr"
        }
      ]
    },
    {
      "cell_type": "code",
      "metadata": {
        "id": "V5SDVW4jGMhu",
        "colab": {
          "base_uri": "https://localhost:8080/",
          "height": 265
        },
        "outputId": "af26253f-d901-427a-c1d8-4e44af36ec28"
      },
      "source": [
        "# train eval\n",
        "\n",
        "MM = 0 # actual AML predicted AML\n",
        "BM = 0 # actual ALL predicted AML\n",
        "MB = 0 # actual AML predicted ALL\n",
        "BB = 0 # actual ALL predicted ALL\n",
        "index = 0\n",
        "for prediction in opt_train_predictions:\n",
        "  if prediction == 1: # M\n",
        "    if train_data.iloc[index].encoding == 1:\n",
        "      MM += 1\n",
        "    else:\n",
        "      BM += 1\n",
        "  else: # predicted B\n",
        "    if train_data.iloc[index].encoding == 1:\n",
        "      MB += 1\n",
        "    else:\n",
        "      BB += 1\n",
        "  index += 1\n",
        "plot_confusion_matrix(MM, BM, MB, BB)"
      ],
      "execution_count": null,
      "outputs": [
        {
          "output_type": "display_data",
          "data": {
            "image/png": "[encoded data removed]",
            "text/plain": [
              "<Figure size 432x288 with 2 Axes>"
            ]
          },
          "metadata": {
            "tags": [],
            "needs_background": "light"
          }
        }
      ]
    },
    {
      "cell_type": "code",
      "metadata": {
        "id": "xqbhEL4xGp1H",
        "colab": {
          "base_uri": "https://localhost:8080/",
          "height": 266
        },
        "outputId": "7caa2d83-8ade-4590-f3a0-ced439b37e20"
      },
      "source": [
        "# test eval\n",
        "\n",
        "MM = 0 # actual AML predicted AML\n",
        "BM = 0 # actual ALL predicted AML\n",
        "MB = 0 # actual AML predicted ALL\n",
        "BB = 0 # actual ALL predicted ALL\n",
        "index = 0\n",
        "for prediction in opt_test_predictions:\n",
        "  if prediction == 1: # M\n",
        "    if test_data.iloc[index].encoding == 1:\n",
        "      MM += 1\n",
        "    else:\n",
        "      BM += 1\n",
        "  else: # predicted B\n",
        "    if test_data.iloc[index].encoding == 1:\n",
        "      MB += 1\n",
        "    else:\n",
        "      BB += 1\n",
        "  index += 1\n",
        "plot_confusion_matrix(MM, BM, MB, BB)"
      ],
      "execution_count": null,
      "outputs": [
        {
          "output_type": "display_data",
          "data": {
            "image/png": "[encoded data removed]",
            "text/plain": [
              "<Figure size 432x288 with 2 Axes>"
            ]
          },
          "metadata": {
            "tags": [],
            "needs_background": "light"
          }
        }
      ]
    },
    {
      "cell_type": "markdown",
      "metadata": {
        "id": "wFO0O-ohi5sJ"
      },
      "source": [
        "### Discussion\n",
        "The random forest classifier with semi-optimized parameters performed well, with high accuracies for both the train and test data. The train accuracy was 0.98 and the test accuracy was 0.95. While not statistically significant given the sample size, there seems to be a slightly higher error in which the model predicts the cancer to be benign with the cancer being malignant in reality. This is an obvious area for future improvement and minimization, as this type of error can prevent patients from getting the treatment they need.\n",
        "\n",
        "To improve the overall accuracy, I hypothesize that a model that selects important features, such as ridge or lasso regression, can potentially be used with this dataset of 30 features. For datasets with many features, it is common for models to overfit, or use redundant, overlapping/correlated features. Using lasso or ridge normalization, some of these features can be filtered out, leaving behind the most predictive features in the model. In addition, these methods would allow for better interpretability, unlike a random forest model where it is difficult to tell which features contributed to the final decision.\n",
        "\n",
        "Since this model was trained only on a dataset localized in Wisconsin, more data need to be inputted for the model to scale and generalize. This type of random forest classifier can be powerful in providing physician and oncologists a second opinion on cancer diagnosis based on cell images. If more patient information are incorporated, the model can achieve higher prediction accuracy in cancer diagnosis applications."
      ]
    }
  ]
}
